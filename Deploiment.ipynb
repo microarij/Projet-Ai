{
 "cells": [
  {
   "cell_type": "markdown",
   "metadata": {
    "id": "sZT0rOrTYuvb"
   },
   "source": [
    "# <font color='SaddleBrown'>**Part 5 : DEPLOIEMENT**</font> "
   ]
  },
  {
   "cell_type": "markdown",
   "metadata": {
    "id": "76kUkyafftMk"
   },
   "source": [
    "##<font color='Chocolate'> **1- PREPARING OUTPUT** "
   ]
  },
  {
   "cell_type": "code",
   "execution_count": null,
   "metadata": {
    "colab": {
     "base_uri": "https://localhost:8080/"
    },
    "id": "l28mljs5BKGM",
    "outputId": "cdca008a-fe9d-4801-ed50-5437c3c870fe"
   },
   "outputs": [],
   "source": [
    "#pip install owlready2"
   ]
  },
  {
   "cell_type": "code",
   "execution_count": 2,
   "metadata": {
    "colab": {
     "base_uri": "https://localhost:8080/"
    },
    "id": "QrXTFIoX-4K9",
    "outputId": "11381b8c-5461-409f-bdb4-18f5b18bef23"
   },
   "outputs": [],
   "source": [
    "#pip install rdfpandas"
   ]
  },
  {
   "cell_type": "code",
   "execution_count": 3,
   "metadata": {},
   "outputs": [],
   "source": [
    "# pip install rdflib"
   ]
  },
  {
   "cell_type": "code",
   "execution_count": 4,
   "metadata": {},
   "outputs": [
    {
     "name": "stderr",
     "output_type": "stream",
     "text": [
      "C:\\Users\\USER\\anaconda3\\lib\\site-packages\\pandas\\core\\computation\\expressions.py:20: UserWarning: Pandas requires version '2.7.3' or newer of 'numexpr' (version '2.7.1' currently installed).\n",
      "  from pandas.core.computation.check import NUMEXPR_INSTALLED\n",
      "* Owlready2 * Warning: optimized Cython parser module 'owlready2_optimized' is not available, defaulting to slower Python implementation\n"
     ]
    }
   ],
   "source": [
    "import re\n",
    "import os\n",
    "import io\n",
    "import nltk\n",
    "import spacy\n",
    "import string\n",
    "import rdflib\n",
    "import math \n",
    "import numpy as np\n",
    "import pandas as pd\n",
    "from owlready2 import *\n",
    "from rdflib\timport Namespace\n",
    "from spacy.tokens import Span\n",
    "from collections import Counter\n",
    "import matplotlib.pyplot as plt\n",
    "from spacy.matcher import Matcher\n",
    "from nltk.corpus import stopwords\n",
    "from nltk.probability import FreqDist\n",
    "from spacy import displacy \n",
    "from nltk.tokenize import MWETokenizer\n",
    "from nltk.tokenize import word_tokenize \n",
    "from nltk.stem import SnowballStemmer, WordNetLemmatizer, PorterStemmer\n",
    "from sklearn.feature_extraction.text import CountVectorizer\n",
    "from sklearn.feature_extraction.text import TfidfTransformer\n",
    "from sklearn.feature_extraction.text import TfidfVectorizer\n",
    "from nltk.tokenize import word_tokenize, sent_tokenize, RegexpTokenizer\n",
    "from rdflib.namespace import DC, DCTERMS, DOAP, FOAF, OWL, RDF, RDFS, SKOS, VOID, XMLNS,XSD\n",
    "from rdflib import URIRef, BNode, Literal, Namespace, Graph\n",
    "from rdflib.extras import describer\n",
    "from flask import Flask, flash, request, redirect, url_for, render_template, session\n",
    "from flaskext.mysql import MySQL\n",
    "import pymysql\n",
    "import urllib.request\n",
    "from werkzeug.utils import secure_filename\n",
    "import scipy.misc\n",
    "#%matplotlib inline\n",
    "from skimage.io import imread, imshow\n",
    "import pytesseract\n",
    "from os import listdir\n",
    "from os.path import isfile, join\n",
    "import numpy\n",
    "import math\n",
    "from matplotlib import pyplot as plt\n",
    "import pickle\n",
    "from nltk.corpus import stopwords\n",
    "from nltk.tokenize import word_tokenize"
   ]
  },
  {
   "cell_type": "code",
   "execution_count": 5,
   "metadata": {
    "id": "rtARBI72w3F7"
   },
   "outputs": [],
   "source": [
    "from owlready2 import *\n",
    "from sklearn.metrics.pairwise import cosine_similarity\n",
    "from sklearn.feature_extraction.text import TfidfVectorizer\n",
    "from rdfpandas.graph import to_dataframe\n",
    "import rdflib\n",
    "import numpy as np\n",
    "import pandas as pd"
   ]
  },
  {
   "cell_type": "code",
   "execution_count": 6,
   "metadata": {},
   "outputs": [
    {
     "name": "stderr",
     "output_type": "stream",
     "text": [
      "[nltk_data] Downloading package stopwords to\n",
      "[nltk_data]     C:\\Users\\USER\\AppData\\Roaming\\nltk_data...\n",
      "[nltk_data]   Package stopwords is already up-to-date!\n"
     ]
    },
    {
     "data": {
      "text/plain": [
       "True"
      ]
     },
     "execution_count": 6,
     "metadata": {},
     "output_type": "execute_result"
    }
   ],
   "source": [
    "nltk.download('stopwords')"
   ]
  },
  {
   "cell_type": "code",
   "execution_count": 7,
   "metadata": {},
   "outputs": [
    {
     "name": "stderr",
     "output_type": "stream",
     "text": [
      "[nltk_data] Downloading package punkt to\n",
      "[nltk_data]     C:\\Users\\USER\\AppData\\Roaming\\nltk_data...\n",
      "[nltk_data]   Package punkt is already up-to-date!\n"
     ]
    },
    {
     "data": {
      "text/plain": [
       "True"
      ]
     },
     "execution_count": 7,
     "metadata": {},
     "output_type": "execute_result"
    }
   ],
   "source": [
    "nltk.download('punkt')"
   ]
  },
  {
   "cell_type": "code",
   "execution_count": 8,
   "metadata": {
    "id": "TQ8yhFfNAD1D"
   },
   "outputs": [],
   "source": [
    "onto = get_ontology('ontologydeploi.owl').load()"
   ]
  },
  {
   "cell_type": "code",
   "execution_count": 9,
   "metadata": {
    "id": "7tEJnPOgBvc6"
   },
   "outputs": [],
   "source": [
    "list_classe=list(onto.classes())"
   ]
  },
  {
   "cell_type": "code",
   "execution_count": 10,
   "metadata": {
    "id": "NJ3UcLbKAGvI"
   },
   "outputs": [],
   "source": [
    "def rempalcement(m):\n",
    "    m=str(m).replace('ontologydeploi.','').replace('_',' ')\n",
    "    return m"
   ]
  },
  {
   "cell_type": "code",
   "execution_count": 11,
   "metadata": {
    "id": "uerXe0SrASAe"
   },
   "outputs": [],
   "source": [
    "newlist=[rempalcement(classe) for classe in list_classe]"
   ]
  },
  {
   "cell_type": "code",
   "execution_count": 12,
   "metadata": {
    "colab": {
     "base_uri": "https://localhost:8080/"
    },
    "id": "vpdm_9idCfS4",
    "outputId": "a0e67c21-cf5b-4b90-9ae2-d22b904f665b"
   },
   "outputs": [
    {
     "data": {
      "text/plain": [
       "['SEQUENCE ACTIVITIES',\n",
       " 'VALIDATE SCOPE',\n",
       " 'DEFINE ACTIVITIES',\n",
       " 'CONTROL SCHEDULE',\n",
       " 'DEVELOP SCHEDULE',\n",
       " 'DEFINE SCOPE',\n",
       " 'CONTROL COSTS',\n",
       " 'COLLECT REQUIREMENTS',\n",
       " 'DETERMINE BUDGET',\n",
       " 'PLAN SCHEDULE MANAGEMENT',\n",
       " 'PLAN SCOPE MANAGEMENT',\n",
       " 'ESTIMATE ACTIVITY DURATIONS',\n",
       " 'PLAN COST MANAGEMENT',\n",
       " 'CREATE WBS',\n",
       " 'ESTIMATE COSTS',\n",
       " 'CONTROL SCOPE']"
      ]
     },
     "execution_count": 12,
     "metadata": {},
     "output_type": "execute_result"
    }
   ],
   "source": [
    "newlist"
   ]
  },
  {
   "cell_type": "code",
   "execution_count": 13,
   "metadata": {
    "id": "BsaOkYACAS9H"
   },
   "outputs": [],
   "source": [
    "docs=[(classe) for classe in newlist]"
   ]
  },
  {
   "cell_type": "code",
   "execution_count": 14,
   "metadata": {
    "colab": {
     "base_uri": "https://localhost:8080/"
    },
    "id": "wURAacOdB6ny",
    "outputId": "884db037-ad16-43b7-b5bb-11becbe26ed9"
   },
   "outputs": [
    {
     "data": {
      "text/plain": [
       "['SEQUENCE ACTIVITIES',\n",
       " 'VALIDATE SCOPE',\n",
       " 'DEFINE ACTIVITIES',\n",
       " 'CONTROL SCHEDULE',\n",
       " 'DEVELOP SCHEDULE',\n",
       " 'DEFINE SCOPE',\n",
       " 'CONTROL COSTS',\n",
       " 'COLLECT REQUIREMENTS',\n",
       " 'DETERMINE BUDGET',\n",
       " 'PLAN SCHEDULE MANAGEMENT',\n",
       " 'PLAN SCOPE MANAGEMENT',\n",
       " 'ESTIMATE ACTIVITY DURATIONS',\n",
       " 'PLAN COST MANAGEMENT',\n",
       " 'CREATE WBS',\n",
       " 'ESTIMATE COSTS',\n",
       " 'CONTROL SCOPE']"
      ]
     },
     "execution_count": 14,
     "metadata": {},
     "output_type": "execute_result"
    }
   ],
   "source": [
    "docs"
   ]
  },
  {
   "cell_type": "code",
   "execution_count": 15,
   "metadata": {
    "id": "mjXw5CrbWkq4"
   },
   "outputs": [],
   "source": [
    "df_deploi = pd.read_csv('dfontolgy.csv') "
   ]
  },
  {
   "cell_type": "code",
   "execution_count": 16,
   "metadata": {
    "id": "TTrHcbGyc1hq"
   },
   "outputs": [],
   "source": [
    "df_deploi=df_deploi.drop(['Unnamed: 0'], axis=1)"
   ]
  },
  {
   "cell_type": "code",
   "execution_count": 17,
   "metadata": {},
   "outputs": [],
   "source": [
    "def lowercase(text):\n",
    "    return text.lower()"
   ]
  },
  {
   "cell_type": "code",
   "execution_count": 18,
   "metadata": {
    "id": "0DoVhPaDYLjg"
   },
   "outputs": [],
   "source": [
    "df_deploi['Process_Name'] = df_deploi['Process_Name'].apply(lambda x : lowercase(x))"
   ]
  },
  {
   "cell_type": "markdown",
   "metadata": {
    "id": "wEVu_Am0giQn"
   },
   "source": [
    "<font color=#010190 size = 5>Deploiment</font>"
   ]
  },
  {
   "cell_type": "code",
   "execution_count": 19,
   "metadata": {},
   "outputs": [],
   "source": [
    " def sim(e):\n",
    "    entree = e\n",
    "    df_classes = pd.DataFrame(columns=['classe','sim','index_c'])\n",
    "    # Program to measure the similarity between \n",
    "    # two sentences using cosine similarity.\n",
    "\n",
    "\n",
    "    for k in range(len(docs)):\n",
    "          X = (docs[k]).lower()\n",
    "          Y = entree \n",
    "          # tokenization\n",
    "          X_list = word_tokenize(X) \n",
    "          Y_list = word_tokenize(Y)\n",
    "          # sw contains the list of stopwords\n",
    "          sw = stopwords.words('english') \n",
    "          l1 =[];l2 =[]       \n",
    "          # remove stop words from the string\n",
    "          X_set = {w for w in X_list } \n",
    "          Y_set = {w for w in Y_list }\n",
    "          # form a set containing keywords of both strings \n",
    "          rvector = X_set.union(Y_set) \n",
    "          for w in rvector:\n",
    "              if w in X_set: l1.append(1) # create a vector\n",
    "              else: l1.append(0)\n",
    "              if w in Y_set: l2.append(1)\n",
    "              else: l2.append(0)\n",
    "          c = 0 \n",
    "          # cosine formula \n",
    "          for i in range(len(rvector)):\n",
    "                  c+= l1[i]*l2[i]\n",
    "          cosine = c / float((sum(l1)*sum(l2))**0.5)\n",
    "          df_classes = df_classes.append({'classe': X , 'sim' : cosine,'index_c' : k} ,ignore_index = True)\n",
    "    df_classes = df_classes.sort_values(by = \"sim\" , ascending=False)\n",
    "    df_classes=df_classes.reset_index(drop=True)\n",
    "    outputclasses = []\n",
    "    for i in range(0,3):\n",
    "        outputclasses.append(df_classes['classe'][i])\n",
    "    return outputclasses\n"
   ]
  },
  {
   "cell_type": "code",
   "execution_count": 20,
   "metadata": {},
   "outputs": [],
   "source": [
    "def output(outputclasses) :\n",
    "    df_deploi = pd.read_csv('dfontolgy.csv') \n",
    "    df_deploi=df_deploi.drop(['Unnamed: 0'], axis=1)\n",
    "    df_deploi['Process_Name'] = df_deploi['Process_Name'].apply(lambda x : lowercase(x))\n",
    "    for i in range(len(df_deploi)):\n",
    "        if (df_deploi['Process_Name'][i] not in outputclasses):\n",
    "            df_deploi = df_deploi.drop([i])\n",
    "    df_deploi = df_deploi.reset_index(drop = True)\n",
    "    return df_deploi"
   ]
  },
  {
   "cell_type": "code",
   "execution_count": 21,
   "metadata": {},
   "outputs": [],
   "source": [
    "app = Flask(__name__)"
   ]
  },
  {
   "cell_type": "code",
   "execution_count": 22,
   "metadata": {},
   "outputs": [],
   "source": [
    "@app.route('/')\n",
    "def index():\n",
    "    return render_template('login.html')\n",
    "\n",
    "@app.route('/dash')\n",
    "def home():\n",
    "    conn = mysql.connect()\n",
    "    cursor = conn.cursor(pymysql.cursors.DictCursor)\n",
    "\n",
    "    # Check if user is loggedin\n",
    "    if 'loggedin' in session:\n",
    "        # We need all the account info for the user so we can display it on the profile page\n",
    "        cursor.execute('SELECT * FROM accounts WHERE id = %s', [session['id']])\n",
    "        account = cursor.fetchone()\n",
    "        # Show the profile page with account info\n",
    "        return render_template('index.html', account=account)\n",
    "    # User is not loggedin redirect to login page\n",
    "    return redirect(url_for('login'))\n",
    "\n",
    "@app.route('/recom', methods=['GET'])\n",
    "def homeRecomm():\n",
    "    conn = mysql.connect()\n",
    "    cursor = conn.cursor(pymysql.cursors.DictCursor)\n",
    "      # Check if user is loggedin\n",
    "    if 'loggedin' in session:\n",
    "        # We need all the account info for the user so we can display it on the profile page\n",
    "        cursor.execute('SELECT * FROM accounts WHERE id = %s', [session['id']])\n",
    "        account = cursor.fetchone()\n",
    "        # Show the profile page with account info\n",
    "        return render_template('recomm.html',account=account)\n",
    "    # User is not loggedin redirect to login page\n",
    "    return redirect(url_for('login'))\n",
    "\n",
    "\n",
    "@app.route('/recom', methods=['POST', 'GET'])\n",
    "def Recomm():\n",
    "    conn = mysql.connect()\n",
    "    cursor = conn.cursor(pymysql.cursors.DictCursor)\n",
    "    if request.method == 'POST':\n",
    "        e = request.form['Input']\n",
    "        classes = sim(e)\n",
    "        dfdeploi = output(classes)\n",
    "    \n",
    "        process1 = dfdeploi.loc[dfdeploi['Process_Name'] == classes[0]]\n",
    "        process2 = dfdeploi.loc[dfdeploi['Process_Name'] == classes[1]]\n",
    "        process3 = dfdeploi.loc[dfdeploi['Process_Name'] == classes[2]]\n",
    "    \n",
    "    if 'loggedin' in session:\n",
    "        # We need all the account info for the user so we can display it on the profile page\n",
    "        cursor.execute('SELECT * FROM accounts WHERE id = %s', [session['id']])\n",
    "        account = cursor.fetchone()\n",
    "        # Show the profile page with account info\n",
    "        return render_template('recomm.html', p1=process1 , p2=process2, p3=process3, account=account , c1=classes[0], c2 = classes[1], c3 = classes[2])\n",
    "    # User is not loggedin redirect to login page\n",
    "    return redirect(url_for('login'))\n",
    "\n",
    "    "
   ]
  },
  {
   "cell_type": "markdown",
   "metadata": {},
   "source": [
    "<font color=#010190 size = 5> Login </font>"
   ]
  },
  {
   "cell_type": "code",
   "execution_count": 23,
   "metadata": {},
   "outputs": [],
   "source": [
    "app.secret_key = 'cairocoders-ednalan'\n",
    "\n",
    "mysql = MySQL()\n",
    "\n",
    "# MySQL configurations\n",
    "app.config['MYSQL_DATABASE_USER'] = 'root'\n",
    "app.config['MYSQL_DATABASE_PASSWORD'] = ''\n",
    "app.config['MYSQL_DATABASE_DB'] = 'projetai'\n",
    "app.config['MYSQL_DATABASE_HOST'] = 'localhost'\n",
    "mysql.init_app(app)\n",
    "\n",
    "# http://localhost:5000/pythonlogin/ - this will be the login page\n",
    "@app.route('/pythonlogin/', methods=['GET', 'POST'])\n",
    "def login():\n",
    " # connect\n",
    "    conn = mysql.connect()\n",
    "    cursor = conn.cursor(pymysql.cursors.DictCursor)\n",
    "\n",
    "    # Output message if something goes wrong...\n",
    "    msg = ''\n",
    "    # Check if \"username\" and \"password\" POST requests exist (user submitted form)\n",
    "    if request.method == 'POST' and 'username' in request.form and 'password' in request.form:\n",
    "        # Create variables for easy access\n",
    "        username = request.form['username']\n",
    "        password = request.form['password']\n",
    "        # Check if account exists using MySQL\n",
    "        cursor.execute('SELECT * FROM accounts WHERE username = %s AND password = %s', (username, password))\n",
    "        # Fetch one record and return result\n",
    "        account = cursor.fetchone()\n",
    "\n",
    "    # If account exists in accounts table in out database\n",
    "        if account:\n",
    "            # Create session data, we can access this data in other routes\n",
    "            session['loggedin'] = True\n",
    "            session['id'] = account['id']\n",
    "            session['username'] = account['username']\n",
    "            # Redirect to home page\n",
    "            #return 'Logged in successfully!'\n",
    "            return redirect(url_for('homeRecomm'))\n",
    "        else:\n",
    "            # Account doesnt exist or username/password incorrect\n",
    "            msg = 'Incorrect username/password!'\n",
    "\n",
    "    return render_template('login.html', msg=msg)\n",
    "\n",
    "@app.route('/profile')\n",
    "def profile():\n",
    " # Check if account exists using MySQL\n",
    "    conn = mysql.connect()\n",
    "    cursor = conn.cursor(pymysql.cursors.DictCursor)\n",
    "\n",
    "    # Check if user is loggedin\n",
    "    if 'loggedin' in session:\n",
    "        # We need all the account info for the user so we can display it on the profile page\n",
    "        cursor.execute('SELECT * FROM accounts WHERE id = %s', [session['id']])\n",
    "        account = cursor.fetchone()\n",
    "        # Show the profile page with account info\n",
    "        return render_template('profile.html', account=account)\n",
    "    # User is not loggedin redirect to login page\n",
    "    return redirect(url_for('login'))"
   ]
  },
  {
   "cell_type": "markdown",
   "metadata": {},
   "source": [
    "<font color=#010190 size = 5> Registration </font>"
   ]
  },
  {
   "cell_type": "code",
   "execution_count": 24,
   "metadata": {},
   "outputs": [],
   "source": [
    "@app.route('/register', methods=['GET', 'POST'])\n",
    "def register():\n",
    " # connect\n",
    "    conn = mysql.connect()\n",
    "    cursor = conn.cursor(pymysql.cursors.DictCursor)\n",
    "\n",
    "    # Output message if something goes wrong...\n",
    "    msg = ''\n",
    "    # Check if \"username\", \"password\" and \"email\" POST requests exist (user submitted form)\n",
    "    if request.method == 'POST' and 'username' in request.form and 'password' in request.form and 'email' in request.form:\n",
    "        # Create variables for easy access\n",
    "        fullname = request.form['fullname']\n",
    "        username = request.form['username']\n",
    "        password = request.form['password']\n",
    "        email = request.form['email']\n",
    "\n",
    "  #Check if account exists using MySQL\n",
    "        cursor.execute('SELECT * FROM accounts WHERE username = %s', (username))\n",
    "        account = cursor.fetchone()\n",
    "        # If account exists show error and validation checks\n",
    "        if account:\n",
    "            msg = 'Account already exists!'\n",
    "        elif not re.match(r'[^@]+@[^@]+\\.[^@]+', email):\n",
    "            msg = 'Invalid email address!'\n",
    "        elif not re.match(r'[A-Za-z0-9]+', username):\n",
    "            msg = 'Username must contain only characters and numbers!'\n",
    "        elif not username or not password or not email:\n",
    "            msg = 'Please fill out the form!'\n",
    "        else:\n",
    "            # Account doesnt exists and the form data is valid, now insert new account into accounts table\n",
    "            cursor.execute('INSERT INTO accounts VALUES (NULL,%s, %s, %s, %s)', (fullname, username, password, email))\n",
    "            conn.commit()\n",
    "\n",
    "            msg = 'You have successfully registered!'\n",
    "    elif request.method == 'POST':\n",
    "        # Form is empty... (no POST data)\n",
    "        msg = 'Please fill out the form!'\n",
    "    # Show registration form with message (if any)\n",
    "    return render_template('register.html', msg=msg)"
   ]
  },
  {
   "cell_type": "markdown",
   "metadata": {},
   "source": [
    "<font color=#010190 size = 5> Logout </font>"
   ]
  },
  {
   "cell_type": "code",
   "execution_count": 25,
   "metadata": {},
   "outputs": [],
   "source": [
    "@app.route('/logout')\n",
    "def logout():\n",
    "    # Remove session data, this will log the user out\n",
    "    session.pop('loggedin', None)\n",
    "    session.pop('id', None)\n",
    "    session.pop('username', None)\n",
    "   # Redirect to login page\n",
    "    return redirect(url_for('login'))"
   ]
  },
  {
   "cell_type": "markdown",
   "metadata": {},
   "source": [
    "<font color=#010190 size = 5> Launching the server </font>"
   ]
  },
  {
   "cell_type": "code",
   "execution_count": null,
   "metadata": {},
   "outputs": [
    {
     "name": "stdout",
     "output_type": "stream",
     "text": [
      " * Serving Flask app \"__main__\" (lazy loading)\n",
      " * Environment: production\n",
      "   WARNING: This is a development server. Do not use it in a production deployment.\n",
      "   Use a production WSGI server instead.\n",
      " * Debug mode: on\n"
     ]
    },
    {
     "name": "stderr",
     "output_type": "stream",
     "text": [
      " * Running on http://127.0.0.1:5000/ (Press CTRL+C to quit)\n",
      "127.0.0.1 - - [16/Nov/2022 11:43:41] \"\u001b[37mGET / HTTP/1.1\u001b[0m\" 200 -\n",
      "127.0.0.1 - - [16/Nov/2022 11:44:21] \"\u001b[37mGET /register HTTP/1.1\u001b[0m\" 200 -\n",
      "127.0.0.1 - - [16/Nov/2022 11:45:25] \"\u001b[37mGET /pythonlogin/ HTTP/1.1\u001b[0m\" 200 -\n",
      "127.0.0.1 - - [16/Nov/2022 11:45:31] \"\u001b[32mPOST /pythonlogin/ HTTP/1.1\u001b[0m\" 302 -\n",
      "127.0.0.1 - - [16/Nov/2022 11:45:31] \"\u001b[37mGET /recom HTTP/1.1\u001b[0m\" 200 -\n",
      "127.0.0.1 - - [16/Nov/2022 11:45:36] \"\u001b[35m\u001b[1mPOST /recom HTTP/1.1\u001b[0m\" 500 -\n",
      "Traceback (most recent call last):\n",
      "  File \"C:\\Users\\USER\\anaconda3\\Lib\\site-packages\\flask\\app.py\", line 2464, in __call__\n",
      "    return self.wsgi_app(environ, start_response)\n",
      "  File \"C:\\Users\\USER\\anaconda3\\Lib\\site-packages\\flask\\app.py\", line 2450, in wsgi_app\n",
      "    response = self.handle_exception(e)\n",
      "  File \"C:\\Users\\USER\\anaconda3\\Lib\\site-packages\\flask\\app.py\", line 1867, in handle_exception\n",
      "    reraise(exc_type, exc_value, tb)\n",
      "  File \"C:\\Users\\USER\\anaconda3\\Lib\\site-packages\\flask\\_compat.py\", line 39, in reraise\n",
      "    raise value\n",
      "  File \"C:\\Users\\USER\\anaconda3\\Lib\\site-packages\\flask\\app.py\", line 2447, in wsgi_app\n",
      "    response = self.full_dispatch_request()\n",
      "  File \"C:\\Users\\USER\\anaconda3\\Lib\\site-packages\\flask\\app.py\", line 1952, in full_dispatch_request\n",
      "    rv = self.handle_user_exception(e)\n",
      "  File \"C:\\Users\\USER\\anaconda3\\Lib\\site-packages\\flask\\app.py\", line 1821, in handle_user_exception\n",
      "    reraise(exc_type, exc_value, tb)\n",
      "  File \"C:\\Users\\USER\\anaconda3\\Lib\\site-packages\\flask\\_compat.py\", line 39, in reraise\n",
      "    raise value\n",
      "  File \"C:\\Users\\USER\\anaconda3\\Lib\\site-packages\\flask\\app.py\", line 1950, in full_dispatch_request\n",
      "    rv = self.dispatch_request()\n",
      "  File \"C:\\Users\\USER\\anaconda3\\Lib\\site-packages\\flask\\app.py\", line 1936, in dispatch_request\n",
      "    return self.view_functions[rule.endpoint](**req.view_args)\n",
      "  File \"<ipython-input-22-bdee0b60d83d>\", line 41, in Recomm\n",
      "    \n",
      "  File \"<ipython-input-19-97c3880f4967>\", line 31, in sim\n",
      "    \n",
      "ZeroDivisionError: float division by zero\n",
      "127.0.0.1 - - [16/Nov/2022 11:45:36] \"\u001b[37mGET /recom?__debugger__=yes&cmd=resource&f=style.css HTTP/1.1\u001b[0m\" 200 -\n",
      "127.0.0.1 - - [16/Nov/2022 11:45:36] \"\u001b[37mGET /recom?__debugger__=yes&cmd=resource&f=debugger.js HTTP/1.1\u001b[0m\" 200 -\n",
      "127.0.0.1 - - [16/Nov/2022 11:45:36] \"\u001b[37mGET /recom?__debugger__=yes&cmd=resource&f=jquery.js HTTP/1.1\u001b[0m\" 200 -\n",
      "127.0.0.1 - - [16/Nov/2022 11:45:36] \"\u001b[37mGET /recom?__debugger__=yes&cmd=resource&f=console.png HTTP/1.1\u001b[0m\" 200 -\n",
      "127.0.0.1 - - [16/Nov/2022 11:45:36] \"\u001b[37mGET /recom?__debugger__=yes&cmd=resource&f=ubuntu.ttf HTTP/1.1\u001b[0m\" 200 -\n",
      "127.0.0.1 - - [16/Nov/2022 11:45:36] \"\u001b[37mGET /recom?__debugger__=yes&cmd=resource&f=console.png HTTP/1.1\u001b[0m\" 200 -\n",
      "<ipython-input-19-97c3880f4967>:32: FutureWarning: The frame.append method is deprecated and will be removed from pandas in a future version. Use pandas.concat instead.\n",
      "  df_classes = df_classes.append({'classe': X , 'sim' : cosine,'index_c' : k} ,ignore_index = True)\n",
      "<ipython-input-19-97c3880f4967>:32: FutureWarning: The frame.append method is deprecated and will be removed from pandas in a future version. Use pandas.concat instead.\n",
      "  df_classes = df_classes.append({'classe': X , 'sim' : cosine,'index_c' : k} ,ignore_index = True)\n",
      "<ipython-input-19-97c3880f4967>:32: FutureWarning: The frame.append method is deprecated and will be removed from pandas in a future version. Use pandas.concat instead.\n",
      "  df_classes = df_classes.append({'classe': X , 'sim' : cosine,'index_c' : k} ,ignore_index = True)\n",
      "<ipython-input-19-97c3880f4967>:32: FutureWarning: The frame.append method is deprecated and will be removed from pandas in a future version. Use pandas.concat instead.\n",
      "  df_classes = df_classes.append({'classe': X , 'sim' : cosine,'index_c' : k} ,ignore_index = True)\n",
      "<ipython-input-19-97c3880f4967>:32: FutureWarning: The frame.append method is deprecated and will be removed from pandas in a future version. Use pandas.concat instead.\n",
      "  df_classes = df_classes.append({'classe': X , 'sim' : cosine,'index_c' : k} ,ignore_index = True)\n",
      "<ipython-input-19-97c3880f4967>:32: FutureWarning: The frame.append method is deprecated and will be removed from pandas in a future version. Use pandas.concat instead.\n",
      "  df_classes = df_classes.append({'classe': X , 'sim' : cosine,'index_c' : k} ,ignore_index = True)\n",
      "<ipython-input-19-97c3880f4967>:32: FutureWarning: The frame.append method is deprecated and will be removed from pandas in a future version. Use pandas.concat instead.\n",
      "  df_classes = df_classes.append({'classe': X , 'sim' : cosine,'index_c' : k} ,ignore_index = True)\n",
      "<ipython-input-19-97c3880f4967>:32: FutureWarning: The frame.append method is deprecated and will be removed from pandas in a future version. Use pandas.concat instead.\n",
      "  df_classes = df_classes.append({'classe': X , 'sim' : cosine,'index_c' : k} ,ignore_index = True)\n",
      "<ipython-input-19-97c3880f4967>:32: FutureWarning: The frame.append method is deprecated and will be removed from pandas in a future version. Use pandas.concat instead.\n",
      "  df_classes = df_classes.append({'classe': X , 'sim' : cosine,'index_c' : k} ,ignore_index = True)\n",
      "<ipython-input-19-97c3880f4967>:32: FutureWarning: The frame.append method is deprecated and will be removed from pandas in a future version. Use pandas.concat instead.\n",
      "  df_classes = df_classes.append({'classe': X , 'sim' : cosine,'index_c' : k} ,ignore_index = True)\n",
      "<ipython-input-19-97c3880f4967>:32: FutureWarning: The frame.append method is deprecated and will be removed from pandas in a future version. Use pandas.concat instead.\n",
      "  df_classes = df_classes.append({'classe': X , 'sim' : cosine,'index_c' : k} ,ignore_index = True)\n",
      "<ipython-input-19-97c3880f4967>:32: FutureWarning: The frame.append method is deprecated and will be removed from pandas in a future version. Use pandas.concat instead.\n",
      "  df_classes = df_classes.append({'classe': X , 'sim' : cosine,'index_c' : k} ,ignore_index = True)\n",
      "<ipython-input-19-97c3880f4967>:32: FutureWarning: The frame.append method is deprecated and will be removed from pandas in a future version. Use pandas.concat instead.\n",
      "  df_classes = df_classes.append({'classe': X , 'sim' : cosine,'index_c' : k} ,ignore_index = True)\n",
      "<ipython-input-19-97c3880f4967>:32: FutureWarning: The frame.append method is deprecated and will be removed from pandas in a future version. Use pandas.concat instead.\n",
      "  df_classes = df_classes.append({'classe': X , 'sim' : cosine,'index_c' : k} ,ignore_index = True)\n",
      "<ipython-input-19-97c3880f4967>:32: FutureWarning: The frame.append method is deprecated and will be removed from pandas in a future version. Use pandas.concat instead.\n",
      "  df_classes = df_classes.append({'classe': X , 'sim' : cosine,'index_c' : k} ,ignore_index = True)\n",
      "<ipython-input-19-97c3880f4967>:32: FutureWarning: The frame.append method is deprecated and will be removed from pandas in a future version. Use pandas.concat instead.\n",
      "  df_classes = df_classes.append({'classe': X , 'sim' : cosine,'index_c' : k} ,ignore_index = True)\n",
      "127.0.0.1 - - [16/Nov/2022 11:45:40] \"\u001b[37mPOST /recom HTTP/1.1\u001b[0m\" 200 -\n"
     ]
    }
   ],
   "source": [
    "if __name__ == '__main__':\n",
    "    app.run(debug=True, use_reloader=False)"
   ]
  },
  {
   "cell_type": "code",
   "execution_count": null,
   "metadata": {},
   "outputs": [],
   "source": []
  }
 ],
 "metadata": {
  "kernelspec": {
   "display_name": "Python 3",
   "language": "python",
   "name": "python3"
  },
  "language_info": {
   "codemirror_mode": {
    "name": "ipython",
    "version": 3
   },
   "file_extension": ".py",
   "mimetype": "text/x-python",
   "name": "python",
   "nbconvert_exporter": "python",
   "pygments_lexer": "ipython3",
   "version": "3.8.3"
  }
 },
 "nbformat": 4,
 "nbformat_minor": 4
}
